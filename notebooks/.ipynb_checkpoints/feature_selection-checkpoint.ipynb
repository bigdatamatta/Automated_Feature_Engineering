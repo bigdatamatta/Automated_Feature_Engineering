{
 "cells": [
  {
   "cell_type": "markdown",
   "metadata": {},
   "source": [
    "### In this notebook:\n",
    "Feature selection on about 1800 previously generated features from original dataset will be performed."
   ]
  },
  {
   "cell_type": "markdown",
   "metadata": {},
   "source": [
    "### About project:\n",
    "Data is from Kaggle competiotion [Home Credit Default Risk](https://www.kaggle.com/c/home-credit-default-risk). \n",
    "\n",
    "I implement an automated feature engineering approach with an open-source library [Featuretools](https://www.featuretools.com/). \n"
   ]
  },
  {
   "cell_type": "markdown",
   "metadata": {},
   "source": [
    "#### Plan:\n",
    "\n",
    " - Load data\n",
    " - Check type of variables\n",
    " - Verify correctness of column names\n",
    " - Optimize columns dtype\n",
    " - One-hot encoding of categorical variables\n",
    " - Delete columns with no variance (single value in colum for all rows)\n",
    " - Reduce columns with correlation above some threshold (remove one from every pair)\n",
    " - Remove columns with missing values above selected threshold"
   ]
  },
  {
   "cell_type": "code",
   "execution_count": 1,
   "metadata": {},
   "outputs": [],
   "source": [
    "import pandas as pd\n",
    "import numpy as np\n",
    "import gc\n",
    "import seaborn as sns"
   ]
  },
  {
   "cell_type": "code",
   "execution_count": 2,
   "metadata": {},
   "outputs": [],
   "source": [
    "import matplotlib"
   ]
  },
  {
   "cell_type": "code",
   "execution_count": 3,
   "metadata": {},
   "outputs": [],
   "source": [
    "import matplotlib.pyplot as plt\n",
    "%matplotlib inline"
   ]
  },
  {
   "cell_type": "code",
   "execution_count": 4,
   "metadata": {},
   "outputs": [],
   "source": [
    "import time"
   ]
  },
  {
   "cell_type": "markdown",
   "metadata": {},
   "source": [
    "#### Load data"
   ]
  },
  {
   "cell_type": "markdown",
   "metadata": {},
   "source": [
    "Due to too large size of feature matrices compared with my local machine capability , I sample 10% of train examples to efficiently perform feature selection."
   ]
  },
  {
   "cell_type": "code",
   "execution_count": 134,
   "metadata": {},
   "outputs": [],
   "source": [
    "#Computated on AWS EC2\n",
    "\n",
    "#train = pd.DataFrame()\n",
    "#num_all_rows = 0\n",
    "\n",
    "# for i in range(1,5):\n",
    "    \n",
    "#     fm_i = pd.read_csv('../data/feature_matrix' + str(i) + '.csv', low_memory=False)\n",
    "#     fm_i = fm_i[fm_i['TARGET'].notnull()]\n",
    "#     num_all_rows += fm_i.shape[0]\n",
    "#     sample_i = fm_i.sample(frac=0.1, random_state=42)\n",
    "#     del fm_i\n",
    "#     train = train.append(sample_i, ignore_index=True)\n",
    "train = pd.read_csv('../data/fm_train_sample.csv')"
   ]
  },
  {
   "cell_type": "markdown",
   "metadata": {},
   "source": [
    "#### Check type of variables"
   ]
  },
  {
   "cell_type": "code",
   "execution_count": 135,
   "metadata": {},
   "outputs": [
    {
     "name": "stdout",
     "output_type": "stream",
     "text": [
      "float64    1278\n",
      "bool        501\n",
      "object       41\n",
      "int64         1\n",
      "dtype: int64\n"
     ]
    }
   ],
   "source": [
    "print(train.dtypes.value_counts())"
   ]
  },
  {
   "cell_type": "markdown",
   "metadata": {},
   "source": [
    "#### Verify correctness of column names"
   ]
  },
  {
   "cell_type": "code",
   "execution_count": 136,
   "metadata": {},
   "outputs": [],
   "source": [
    "# Verify if any columns by mistake was created as derivative of target columns\n",
    "cols_target = [col for col in train.columns if 'TARGET' in col]"
   ]
  },
  {
   "cell_type": "code",
   "execution_count": 137,
   "metadata": {},
   "outputs": [],
   "source": [
    "train.drop(columns = 'PERCENTILE(TARGET)', inplace = True)"
   ]
  },
  {
   "cell_type": "code",
   "execution_count": 53,
   "metadata": {},
   "outputs": [],
   "source": [
    "cols_int64 = [col for col in train.columns if train[col].dtype == 'int64']\n",
    "cols_object = [col for col in train.columns if train[col].dtype == 'object']\n",
    "cols_non_object = [col for col in train.columns if train[col].dtype != 'object']\n",
    "\n",
    "cols_bool = [col for col in train.columns if train[col].dtype == 'bool']"
   ]
  },
  {
   "cell_type": "markdown",
   "metadata": {},
   "source": [
    "#### Optimize columns dtype"
   ]
  },
  {
   "cell_type": "code",
   "execution_count": 58,
   "metadata": {},
   "outputs": [],
   "source": [
    "# Replace True False to 1 0\n",
    "for col in train:\n",
    "    if train[col].dtype == 'bool':\n",
    "        train[col] = train[col].astype(np.uint8)"
   ]
  },
  {
   "cell_type": "code",
   "execution_count": 59,
   "metadata": {},
   "outputs": [
    {
     "data": {
      "text/plain": [
       "float64    1278\n",
       "uint8       501\n",
       "object       41\n",
       "int64         1\n",
       "dtype: int64"
      ]
     },
     "execution_count": 59,
     "metadata": {},
     "output_type": "execute_result"
    }
   ],
   "source": [
    "train.dtypes.value_counts()"
   ]
  },
  {
   "cell_type": "markdown",
   "metadata": {},
   "source": [
    "#### One-hot encoding of categorical variables"
   ]
  },
  {
   "cell_type": "code",
   "execution_count": 5,
   "metadata": {},
   "outputs": [],
   "source": [
    "from sklearn.base import BaseEstimator, TransformerMixin\n",
    "from sklearn.feature_extraction import DictVectorizer"
   ]
  },
  {
   "cell_type": "code",
   "execution_count": 6,
   "metadata": {},
   "outputs": [],
   "source": [
    "class DictVectorizerTransformer(TransformerMixin):\n",
    "    \"\"\"\n",
    "    Transformer return pandas dataframe transformed by dictVectorizer. Implemantation is suitable with pipelines.\n",
    "    \"\"\"\n",
    "    def __init__(self):\n",
    "        self.dv = None\n",
    "\n",
    "    def fit(self, X, y=None):\n",
    "        Xdict = X.to_dict('records')\n",
    "        self.dv = DictVectorizer(sparse=False)\n",
    "        self.dv.fit(Xdict)\n",
    "        return self\n",
    "\n",
    "    def transform(self, X):\n",
    "        Xdict = X.to_dict('records')\n",
    "        Xt = self.dv.transform(Xdict)\n",
    "        cols = self.dv.get_feature_names()\n",
    "        Xdum = pd.DataFrame(Xt, index=X.index, columns=cols)\n",
    "        return Xdum"
   ]
  },
  {
   "cell_type": "code",
   "execution_count": 62,
   "metadata": {},
   "outputs": [],
   "source": [
    "dv = DictVectorizerTransformer()\n",
    "\n",
    "object_tr = dv.fit_transform(train[cols_object])"
   ]
  },
  {
   "cell_type": "code",
   "execution_count": 63,
   "metadata": {},
   "outputs": [],
   "source": [
    "# Train tranformed\n",
    "train_tr = pd.concat([train[cols_non_object], object_tr], axis=1 )"
   ]
  },
  {
   "cell_type": "code",
   "execution_count": 64,
   "metadata": {},
   "outputs": [
    {
     "data": {
      "text/plain": [
       "float64    1618\n",
       "uint8       501\n",
       "int64         1\n",
       "dtype: int64"
      ]
     },
     "execution_count": 64,
     "metadata": {},
     "output_type": "execute_result"
    }
   ],
   "source": [
    "train_tr.dtypes.value_counts()"
   ]
  },
  {
   "cell_type": "markdown",
   "metadata": {},
   "source": [
    "#### Delete columns with no variance (single value in colum for all rows)"
   ]
  },
  {
   "cell_type": "code",
   "execution_count": 140,
   "metadata": {},
   "outputs": [],
   "source": [
    "def delete_cols_no_variance(dataset):\n",
    "\n",
    "    unique_counts = pd.DataFrame(dataset.nunique()).sort_values(0, ascending = True)\n",
    "    zero_variance_cols = list(unique_counts[unique_counts[0] == 1].index)\n",
    "    n_zero_variance_cols = len(zero_variance_cols)\n",
    "\n",
    "    return dataset[[x for x in dataset if x not in zero_variance_cols]], zero_variance_cols"
   ]
  },
  {
   "cell_type": "code",
   "execution_count": 66,
   "metadata": {},
   "outputs": [],
   "source": [
    "train_tr, _ = delete_cols_no_variance(train_tr)"
   ]
  },
  {
   "cell_type": "markdown",
   "metadata": {},
   "source": [
    "#### Reduce columns with correlation above some threshold (remove one from every pair)"
   ]
  },
  {
   "cell_type": "code",
   "execution_count": 141,
   "metadata": {},
   "outputs": [],
   "source": [
    "def drop_correlated_cols(dataset, target_col = 'TARGET', threshold = 0.95):\n",
    "\n",
    "    corr_matrix = dataset.drop(target_col, axis=1).corr()\n",
    "\n",
    "    # Extract the upper triangle of the correlation matrix\n",
    "    upper = corr_matrix.where(np.triu(np.ones(corr_matrix.shape), k = 1).astype(np.bool))\n",
    "\n",
    "    # Select the features with correlations above the threshold\n",
    "    # Need to use the absolute value\n",
    "    to_drop = [column for column in upper.columns if any(upper[column].abs() > threshold)]\n",
    "    \n",
    "    dataset = dataset[[x for x in dataset if x not in to_drop]]\n",
    "    \n",
    "    return dataset, to_drop\n",
    "    "
   ]
  },
  {
   "cell_type": "code",
   "execution_count": 89,
   "metadata": {},
   "outputs": [],
   "source": [
    "train_tr, to_drop = drop_correlated_cols(train_tr)"
   ]
  },
  {
   "cell_type": "code",
   "execution_count": 142,
   "metadata": {},
   "outputs": [],
   "source": [
    "#Correlation of variables\n",
    "def draw_corr_matrix(dataset, target_col='TARGET'):\n",
    "\n",
    "    corr = np.corrcoef(dataset.drop(target_col, axis=1), rowvar=False)\n",
    "\n",
    "    #Generate a mask for the upper triangle\n",
    "    mask = np.zeros_like(corr, dtype=np.bool)\n",
    "    mask[np.tril_indices_from(mask)] = True\n",
    "\n",
    "    fig, ax = plt.subplots(figsize=(12,8))\n",
    "\n",
    "    ax = sns.heatmap(corr, mask=mask.T, xticklabels=[], yticklabels=[])\n",
    "    \n",
    "    plt.show()"
   ]
  },
  {
   "cell_type": "code",
   "execution_count": 95,
   "metadata": {},
   "outputs": [
    {
     "data": {
      "image/png": "[encoded data removed]",
      "text/plain": [
       "<Figure size 864x576 with 2 Axes>"
      ]
     },
     "metadata": {},
     "output_type": "display_data"
    }
   ],
   "source": [
    "draw_corr_matrix(train_tr)"
   ]
  },
  {
   "cell_type": "markdown",
   "metadata": {},
   "source": [
    "#### Remove columns with missing values above selected threshold"
   ]
  },
  {
   "cell_type": "code",
   "execution_count": 115,
   "metadata": {},
   "outputs": [],
   "source": [
    "def missing_values_table(dataset):\n",
    "    \"\"\"\n",
    "    Function to calculate missing values by column\n",
    "    \"\"\"\n",
    "    # Total missing values\n",
    "    mis_val = dataset.isnull().sum()\n",
    "        \n",
    "    # Percentage of missing values\n",
    "    mis_val_percent = 100 * dataset.isnull().sum() / len(dataset)\n",
    "        \n",
    "    # Make a table with the results\n",
    "    mis_val_table = pd.concat([mis_val, mis_val_percent], axis=1)\n",
    "        \n",
    "    # Rename the columns\n",
    "    mis_val_table_ren_columns = mis_val_table.rename(\n",
    "    columns = {0 : 'Missing Values', 1 : '% of Total Values'})\n",
    "        \n",
    "    # Sort the table by percentage of missing descending\n",
    "    mis_val_table_ren_columns = mis_val_table_ren_columns[\n",
    "        mis_val_table_ren_columns.iloc[:,1] != 0].sort_values(\n",
    "        '% of Total Values', ascending=False).round(1)\n",
    "        \n",
    "    # Return the dataframe with missing information\n",
    "    return mis_val_table_ren_columns"
   ]
  },
  {
   "cell_type": "code",
   "execution_count": 116,
   "metadata": {},
   "outputs": [],
   "source": [
    "mis_val_table = missing_values_table(train_tr)"
   ]
  },
  {
   "cell_type": "code",
   "execution_count": 155,
   "metadata": {},
   "outputs": [
    {
     "data": {
      "text/html": [
       "<div>\n",
       "<style scoped>\n",
       "    .dataframe tbody tr th:only-of-type {\n",
       "        vertical-align: middle;\n",
       "    }\n",
       "\n",
       "    .dataframe tbody tr th {\n",
       "        vertical-align: top;\n",
       "    }\n",
       "\n",
       "    .dataframe thead th {\n",
       "        text-align: right;\n",
       "    }\n",
       "</style>\n",
       "<table border=\"1\" class=\"dataframe\">\n",
       "  <thead>\n",
       "    <tr style=\"text-align: right;\">\n",
       "      <th></th>\n",
       "      <th>Missing Values</th>\n",
       "      <th>% of Total Values</th>\n",
       "    </tr>\n",
       "  </thead>\n",
       "  <tbody>\n",
       "    <tr>\n",
       "      <th>PERCENTILE(MAX(credit.AMT_PAYMENT_CURRENT))</th>\n",
       "      <td>25430</td>\n",
       "      <td>82.7</td>\n",
       "    </tr>\n",
       "    <tr>\n",
       "      <th>MAX(credit.AMT_PAYMENT_CURRENT)</th>\n",
       "      <td>25430</td>\n",
       "      <td>82.7</td>\n",
       "    </tr>\n",
       "    <tr>\n",
       "      <th>MEAN(credit.AMT_PAYMENT_CURRENT)</th>\n",
       "      <td>25430</td>\n",
       "      <td>82.7</td>\n",
       "    </tr>\n",
       "  </tbody>\n",
       "</table>\n",
       "</div>"
      ],
      "text/plain": [
       "                                             Missing Values  % of Total Values\n",
       "PERCENTILE(MAX(credit.AMT_PAYMENT_CURRENT))           25430               82.7\n",
       "MAX(credit.AMT_PAYMENT_CURRENT)                       25430               82.7\n",
       "MEAN(credit.AMT_PAYMENT_CURRENT)                      25430               82.7"
      ]
     },
     "execution_count": 155,
     "metadata": {},
     "output_type": "execute_result"
    }
   ],
   "source": [
    "mis_val_table.head(3)"
   ]
  },
  {
   "cell_type": "code",
   "execution_count": 143,
   "metadata": {},
   "outputs": [],
   "source": [
    "def remove_miss_val(dataset, treshold = 90):\n",
    "\n",
    "    # Find missing and percentage\n",
    "    missing = pd.DataFrame(dataset.isnull().sum())\n",
    "    missing['percent'] = 100 * (missing[0] / dataset.shape[0])\n",
    "    missing.sort_values('percent', ascending = False, inplace = True)\n",
    "\n",
    "    # Missing above threshold\n",
    "    missing_cols = list(missing[missing['percent'] > treshold].index)\n",
    "    n_missing_cols = len(missing_cols)\n",
    "\n",
    "    dataset = dataset[[x for x in dataset if x not in missing_cols]]\n",
    "    return dataset, missing_cols"
   ]
  },
  {
   "cell_type": "code",
   "execution_count": 110,
   "metadata": {},
   "outputs": [],
   "source": [
    "train_tr, missing_cols = remove_miss_val(train_tr)"
   ]
  },
  {
   "cell_type": "code",
   "execution_count": 120,
   "metadata": {},
   "outputs": [],
   "source": [
    "# Save results\n",
    "train_tr.to_csv('../data/fm_train_sample_trans.csv', index=False)"
   ]
  },
  {
   "cell_type": "markdown",
   "metadata": {},
   "source": [
    "#### Final function to run all steps at once"
   ]
  },
  {
   "cell_type": "code",
   "execution_count": 144,
   "metadata": {},
   "outputs": [],
   "source": [
    "def perform_feature_selection(dataset, target_col = 'TARGET', correlation_treshold=0.95, missing_treshold=90):\n",
    "    \n",
    "    start = time.time()\n",
    "    \n",
    "    result_dict = {}\n",
    "    print('***Start***\\t')\n",
    "    print('Original dtypes: {}'.format(dataset.dtypes.value_counts()))\n",
    "    print('***\\t')\n",
    "    cols_object = [col for col in train.columns if train[col].dtype == 'object']\n",
    "    cols_non_object = [col for col in train.columns if train[col].dtype != 'object']\n",
    "    cols_bool = [col for col in train.columns if train[col].dtype == 'bool']\n",
    "    \n",
    "    # Replace True False to 1 0\n",
    "    for col in dataset:\n",
    "        if dataset[col].dtype == 'bool':\n",
    "            dataset[col] = dataset[col].astype(np.uint8)\n",
    "    \n",
    "    #One-hot encoding of categorical variables\n",
    "    dv = DictVectorizerTransformer()\n",
    "    object_dataset = dv.fit_transform(dataset[cols_object])\n",
    "    dataset = pd.concat([dataset[cols_non_object], object_dataset], axis=1 )\n",
    "    print('Dtypes after DictVectorization: {}'.format(dataset.dtypes.value_counts()))\n",
    "    print('***\\t')\n",
    "    #Delete columns with no variance (single value in colum for all rows)\n",
    "    dataset, zero_variance_cols = delete_cols_no_variance(dataset)\n",
    "    \n",
    "    result_dict['zero_variance_cols'] = zero_variance_cols\n",
    "    print('Number of zero variance cols deleted: {}'.format(n_zero_variance_cols))\n",
    "    \n",
    "    \n",
    "    #Reduce columns with correlation above some threshold (remove one from every pair)\n",
    "    dataset, to_drop = drop_correlated_cols(dataset, target_col = target_col, threshold = correlation_treshold)\n",
    "    result_dict['to_drop'] = to_drop\n",
    "    print('Number of correlated cols deleted: {}'.format(len(to_drop)))    \n",
    "        \n",
    "    #Missing values\n",
    "    dataset, missing_cols = remove_miss_val(dataset, treshold = missing_treshold)\n",
    "    result_dict['missing_cols'] = missing_cols\n",
    "    print('Number of missing cols deleted: {}'.format(len(missing_cols)))   \n",
    "    \n",
    "    \n",
    "    end = time.time()\n",
    "    print('Computation took {} sec.'.format(round(end - start), 1))\n",
    "    print('Dataset shape after feature selection: {}'.format(dataset.shape))\n",
    "    print('***End***\\t')\n",
    "    return dataset, result_dict"
   ]
  },
  {
   "cell_type": "code",
   "execution_count": 146,
   "metadata": {},
   "outputs": [
    {
     "name": "stdout",
     "output_type": "stream",
     "text": [
      "Original dtypes: float64    1277\n",
      "bool        501\n",
      "object       41\n",
      "int64         1\n",
      "dtype: int64\n",
      "Dtypes after DictVectorization: float64    1618\n",
      "uint8       501\n",
      "int64         1\n",
      "dtype: int64\n",
      "Number of zero variance cols deleted: 256\n",
      "Number of correlated cols deleted: 825\n",
      "Number of missing cols deleted: 1\n",
      "Dataset shape after feature selection: (30751, 1038)\n"
     ]
    }
   ],
   "source": [
    "res_dataset, result_dict = perform_feature_selection(train)"
   ]
  },
  {
   "cell_type": "markdown",
   "metadata": {},
   "source": [
    "## Summary\n",
    "\n",
    "To make feature selection feasible, I sample 10% of data rows from the training observations. \n",
    "File with sampled data: `fm_train_sample.csv`.Then reduction of data dimensionality was performed from over 1.8k features to around 1k features. Final sampled selected data saved in file `fm_train_sample_trans.csv`\n",
    "There are some assumptions about setting thresholds, which was done arbitrary.\n",
    "\n",
    "Next step is to use these results to subset feature matrices with all the observations and only selected columns."
   ]
  },
  {
   "cell_type": "code",
   "execution_count": null,
   "metadata": {},
   "outputs": [],
   "source": []
  },
  {
   "cell_type": "markdown",
   "metadata": {},
   "source": [
    "### Subsetting data"
   ]
  },
  {
   "cell_type": "code",
   "execution_count": 7,
   "metadata": {},
   "outputs": [],
   "source": [
    "def transform_feature_matrix(fm_sample, fm_sample_trans, feature_matrix):\n",
    "    \n",
    "    start = time.time()\n",
    "\n",
    "    cols_object = [col for col in fm_sample.columns if fm_sample[col].dtype == 'object']\n",
    "    cols_non_object = [col for col in fm_sample.columns if fm_sample[col].dtype != 'object']\n",
    "    cols_bool = [col for col in fm_sample.columns if fm_sample[col].dtype == 'bool']\n",
    "    \n",
    "    # Replace True False to 1 0\n",
    "    for col in fm_sample:\n",
    "        if fm_sample[col].dtype == 'bool':\n",
    "            fm_sample[col] = fm_sample[col].astype(np.uint8)\n",
    "    \n",
    "    #One-hot encoding of categorical variables\n",
    "    dv = DictVectorizerTransformer()\n",
    "    dv.fit(fm_sample[cols_object])\n",
    "    \n",
    "    \n",
    "    cols_object = [col for col in feature_matrix.columns if feature_matrix[col].dtype == 'object']\n",
    "    cols_non_object = [col for col in feature_matrix.columns if feature_matrix[col].dtype != 'object']\n",
    "    cols_bool = [col for col in feature_matrix.columns if feature_matrix[col].dtype == 'bool']\n",
    "    \n",
    "    \n",
    "    for col in feature_matrix:\n",
    "        if feature_matrix[col].dtype == 'bool':\n",
    "            feature_matrix[col] = feature_matrix[col].astype(np.uint8)\n",
    "    \n",
    "    \n",
    "    object_feature_matrix = dv.transform(feature_matrix[cols_object])\n",
    "\n",
    "    feature_matrix = pd.concat([feature_matrix[cols_non_object], object_feature_matrix], axis=1 )\n",
    "                                                             \n",
    "    # Subset to the columns in the sample\n",
    "    feature_matrix = feature_matrix[[x for x in fm_sample_trans.columns if x in feature_matrix]]\n",
    "    \n",
    "    \n",
    "    end = time.time()\n",
    "    print('Computation took {} sec.'.format(round(end - start), 1))\n",
    "    \n",
    "    return feature_matrix\n",
    "                                                             "
   ]
  },
  {
   "cell_type": "code",
   "execution_count": 8,
   "metadata": {},
   "outputs": [],
   "source": [
    "train = pd.read_csv('../data/fm_train_sample.csv')"
   ]
  },
  {
   "cell_type": "code",
   "execution_count": 9,
   "metadata": {},
   "outputs": [],
   "source": [
    "train_trans = pd.read_csv('../data/fm_train_sample_trans.csv')"
   ]
  },
  {
   "cell_type": "code",
   "execution_count": 12,
   "metadata": {},
   "outputs": [],
   "source": [
    "for i in range(1,5):\n",
    "\n",
    "    \n",
    "    feature_matrix = pd.read_csv('../data/feature_matrix' + str(i) +'.csv')\n",
    "    feature_matrix_selected = transform_feature_matrix(fm_sample=train, fm_sample_trans=train_trans, feature_matrix=feature_matrix)\n",
    "    \n",
    "    if train_trans.shape[1] == feature_matrix_selected.shape[1]:\n",
    "        feature_matrix_selected.to_csv('../data/feature_matrix' + str(i) +'_selected.csv', index=False)\n",
    "    else:\n",
    "        print('Not eqaul number of columns in feature_matrix {}'.format(i))\n",
    "    \n",
    "    del feature_matrix_selected"
   ]
  },
  {
   "cell_type": "code",
   "execution_count": null,
   "metadata": {},
   "outputs": [],
   "source": []
  }
 ],
 "metadata": {
  "kernelspec": {
   "display_name": "Python 3",
   "language": "python",
   "name": "python3"
  },
  "language_info": {
   "codemirror_mode": {
    "name": "ipython",
    "version": 3
   },
   "file_extension": ".py",
   "mimetype": "text/x-python",
   "name": "python",
   "nbconvert_exporter": "python",
   "pygments_lexer": "ipython3",
   "version": "3.6.5"
  }
 },
 "nbformat": 4,
 "nbformat_minor": 2
}
