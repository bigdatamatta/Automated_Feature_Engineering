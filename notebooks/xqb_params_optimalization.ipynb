{
 "cells": [
  {
   "cell_type": "markdown",
   "metadata": {},
   "source": [
    "### In this notebook:\n",
    "I train xgboost model with optimized hyperparameters (see notebook `xgb_random_search`) on whole feature matrix data. Feature matrix has selected variables after feature selection. See notebook `feature_selection`."
   ]
  },
  {
   "cell_type": "markdown",
   "metadata": {},
   "source": [
    "### About project:\n",
    "Data is from Kaggle competiotion [Home Credit Default Risk](https://www.kaggle.com/c/home-credit-default-risk). \n",
    "\n",
    "I implement an automated feature engineering approach with an open-source library [Featuretools](https://www.featuretools.com/). \n"
   ]
  },
  {
   "cell_type": "code",
   "execution_count": 1,
   "metadata": {},
   "outputs": [],
   "source": [
    "import xgboost as xgb \n",
    "\n",
    "import numpy as np\n",
    "import pandas as pd\n",
    "import time\n",
    "import pickle\n",
    "\n",
    "import matplotlib.pyplot as plt\n",
    "%matplotlib inline\n",
    "\n",
    "import warnings\n",
    "warnings.filterwarnings('ignore')\n",
    "import gc"
   ]
  },
  {
   "cell_type": "code",
   "execution_count": 2,
   "metadata": {},
   "outputs": [],
   "source": [
    "from sklearn.model_selection import train_test_split"
   ]
  },
  {
   "cell_type": "code",
   "execution_count": 3,
   "metadata": {},
   "outputs": [],
   "source": [
    "# Import data"
   ]
  },
  {
   "cell_type": "code",
   "execution_count": 4,
   "metadata": {},
   "outputs": [],
   "source": [
    "dtrain1 = pd.read_csv('../data/feature_matrix1_selected.csv')\n",
    "dtrain2 = pd.read_csv('../data/feature_matrix2_selected.csv')\n",
    "dtrain3 = pd.read_csv('../data/feature_matrix3_selected.csv')"
   ]
  },
  {
   "cell_type": "code",
   "execution_count": 5,
   "metadata": {},
   "outputs": [],
   "source": [
    "feature_matrix4_selected = pd.read_csv('../data/feature_matrix4_selected.csv')\n",
    "\n",
    "dtrain4 = feature_matrix4_selected.loc[~feature_matrix4_selected['TARGET'].isnull()]"
   ]
  },
  {
   "cell_type": "code",
   "execution_count": 8,
   "metadata": {},
   "outputs": [],
   "source": [
    "dtest = feature_matrix4_selected.loc[feature_matrix4_selected['TARGET'].isnull()]\n",
    "dtest.drop('TARGET', axis=1, inplace=True)"
   ]
  },
  {
   "cell_type": "code",
   "execution_count": 9,
   "metadata": {},
   "outputs": [],
   "source": [
    "dtrain = pd.concat([dtrain1, dtrain2, dtrain3, dtrain4], axis=0)"
   ]
  },
  {
   "cell_type": "code",
   "execution_count": 10,
   "metadata": {},
   "outputs": [
    {
     "data": {
      "text/plain": [
       "(307511, 1038)"
      ]
     },
     "execution_count": 10,
     "metadata": {},
     "output_type": "execute_result"
    }
   ],
   "source": [
    "dtrain.shape"
   ]
  },
  {
   "cell_type": "code",
   "execution_count": 11,
   "metadata": {},
   "outputs": [
    {
     "data": {
      "text/plain": [
       "(48744, 1037)"
      ]
     },
     "execution_count": 11,
     "metadata": {},
     "output_type": "execute_result"
    }
   ],
   "source": [
    "dtest.shape"
   ]
  },
  {
   "cell_type": "code",
   "execution_count": 12,
   "metadata": {},
   "outputs": [],
   "source": [
    "id_col = 'SK_ID_CURR'\n",
    "target_col = 'TARGET'\n",
    "\n",
    "predictors = [x for x in dtrain.columns if x not in [id_col, target_col]]"
   ]
  },
  {
   "cell_type": "code",
   "execution_count": 13,
   "metadata": {},
   "outputs": [],
   "source": [
    "X_train, X_test, y_train, y_test = train_test_split(dtrain[predictors], dtrain[target_col], test_size=0.2, random_state=42)"
   ]
  },
  {
   "cell_type": "code",
   "execution_count": 14,
   "metadata": {},
   "outputs": [],
   "source": [
    "#Import xgb params"
   ]
  },
  {
   "cell_type": "code",
   "execution_count": 15,
   "metadata": {},
   "outputs": [],
   "source": [
    "with open('../data/best_params.pkl', mode='rb') as f:\n",
    "    best_params = pickle.load(f)"
   ]
  },
  {
   "cell_type": "code",
   "execution_count": 16,
   "metadata": {},
   "outputs": [
    {
     "data": {
      "text/plain": [
       "{'subsample': 0.89,\n",
       " 'reg_lambda': 0.12244897959183673,\n",
       " 'reg_alpha': 0.1020408163265306,\n",
       " 'n_estimators': 700,\n",
       " 'min_child_weight': 3,\n",
       " 'max_depth': 5,\n",
       " 'learning_rate': 0.027271356526649162,\n",
       " 'gamma': 0.32,\n",
       " 'colsample_bytree': 0.72,\n",
       " 'colsample_bylevel': 0.6799999999999999}"
      ]
     },
     "execution_count": 16,
     "metadata": {},
     "output_type": "execute_result"
    }
   ],
   "source": [
    "best_params"
   ]
  },
  {
   "cell_type": "code",
   "execution_count": 36,
   "metadata": {},
   "outputs": [],
   "source": [
    "\n",
    "best_params['reg_lambda'] = 0.12\n",
    "best_params['reg_alpha'] = 0.1\n",
    "best_params['n_estimators'] = 160\n",
    "best_params['learning_rate'] = 0.10\n",
    "best_params['gamma'] = 0\n",
    "best_params['colsample_bytree'] = 0.8\n",
    "best_params['colsample_bylevel'] = 0.8"
   ]
  },
  {
   "cell_type": "markdown",
   "metadata": {},
   "source": [
    "#### Model"
   ]
  },
  {
   "cell_type": "code",
   "execution_count": 37,
   "metadata": {},
   "outputs": [],
   "source": [
    "clf = xgb.XGBClassifier(silent=False, **best_params, n_jobs=-1)"
   ]
  },
  {
   "cell_type": "code",
   "execution_count": 38,
   "metadata": {},
   "outputs": [
    {
     "name": "stdout",
     "output_type": "stream",
     "text": [
      "[0]\tvalidation_0-auc:0.713507\tvalidation_1-auc:0.705402\n",
      "[1]\tvalidation_0-auc:0.721888\tvalidation_1-auc:0.711756\n",
      "[2]\tvalidation_0-auc:0.725481\tvalidation_1-auc:0.715528\n",
      "[3]\tvalidation_0-auc:0.728856\tvalidation_1-auc:0.716923\n",
      "[4]\tvalidation_0-auc:0.7323\tvalidation_1-auc:0.719399\n",
      "[5]\tvalidation_0-auc:0.735383\tvalidation_1-auc:0.722234\n",
      "[6]\tvalidation_0-auc:0.740314\tvalidation_1-auc:0.726399\n",
      "[7]\tvalidation_0-auc:0.741485\tvalidation_1-auc:0.72712\n",
      "[8]\tvalidation_0-auc:0.743888\tvalidation_1-auc:0.730069\n",
      "[9]\tvalidation_0-auc:0.744918\tvalidation_1-auc:0.731319\n",
      "[10]\tvalidation_0-auc:0.745805\tvalidation_1-auc:0.731618\n",
      "[11]\tvalidation_0-auc:0.748759\tvalidation_1-auc:0.733308\n",
      "[12]\tvalidation_0-auc:0.751476\tvalidation_1-auc:0.735354\n",
      "[13]\tvalidation_0-auc:0.753178\tvalidation_1-auc:0.736974\n",
      "[14]\tvalidation_0-auc:0.756163\tvalidation_1-auc:0.739729\n",
      "[15]\tvalidation_0-auc:0.760189\tvalidation_1-auc:0.743106\n",
      "[16]\tvalidation_0-auc:0.76183\tvalidation_1-auc:0.743874\n",
      "[17]\tvalidation_0-auc:0.763018\tvalidation_1-auc:0.744407\n",
      "[18]\tvalidation_0-auc:0.764302\tvalidation_1-auc:0.745604\n",
      "[19]\tvalidation_0-auc:0.765413\tvalidation_1-auc:0.745785\n",
      "[20]\tvalidation_0-auc:0.76685\tvalidation_1-auc:0.746675\n",
      "[21]\tvalidation_0-auc:0.768196\tvalidation_1-auc:0.747843\n",
      "[22]\tvalidation_0-auc:0.769211\tvalidation_1-auc:0.748435\n",
      "[23]\tvalidation_0-auc:0.770978\tvalidation_1-auc:0.749517\n",
      "[24]\tvalidation_0-auc:0.772941\tvalidation_1-auc:0.750851\n",
      "[25]\tvalidation_0-auc:0.774615\tvalidation_1-auc:0.751923\n",
      "[26]\tvalidation_0-auc:0.776094\tvalidation_1-auc:0.752512\n",
      "[27]\tvalidation_0-auc:0.777987\tvalidation_1-auc:0.754039\n",
      "[28]\tvalidation_0-auc:0.778932\tvalidation_1-auc:0.75469\n",
      "[29]\tvalidation_0-auc:0.780537\tvalidation_1-auc:0.755734\n",
      "[30]\tvalidation_0-auc:0.782056\tvalidation_1-auc:0.756854\n",
      "[31]\tvalidation_0-auc:0.783416\tvalidation_1-auc:0.757776\n",
      "[32]\tvalidation_0-auc:0.784931\tvalidation_1-auc:0.758496\n",
      "[33]\tvalidation_0-auc:0.786092\tvalidation_1-auc:0.759395\n",
      "[34]\tvalidation_0-auc:0.787281\tvalidation_1-auc:0.760244\n",
      "[35]\tvalidation_0-auc:0.78837\tvalidation_1-auc:0.760458\n",
      "[36]\tvalidation_0-auc:0.789531\tvalidation_1-auc:0.761373\n",
      "[37]\tvalidation_0-auc:0.790551\tvalidation_1-auc:0.761569\n",
      "[38]\tvalidation_0-auc:0.791756\tvalidation_1-auc:0.762275\n",
      "[39]\tvalidation_0-auc:0.792917\tvalidation_1-auc:0.763163\n",
      "[40]\tvalidation_0-auc:0.794167\tvalidation_1-auc:0.763832\n",
      "[41]\tvalidation_0-auc:0.794761\tvalidation_1-auc:0.763997\n",
      "[42]\tvalidation_0-auc:0.795592\tvalidation_1-auc:0.7643\n",
      "[43]\tvalidation_0-auc:0.796398\tvalidation_1-auc:0.764736\n",
      "[44]\tvalidation_0-auc:0.797391\tvalidation_1-auc:0.765115\n",
      "[45]\tvalidation_0-auc:0.798322\tvalidation_1-auc:0.765436\n",
      "[46]\tvalidation_0-auc:0.799081\tvalidation_1-auc:0.765905\n",
      "[47]\tvalidation_0-auc:0.80005\tvalidation_1-auc:0.766473\n",
      "[48]\tvalidation_0-auc:0.800811\tvalidation_1-auc:0.766933\n",
      "[49]\tvalidation_0-auc:0.80147\tvalidation_1-auc:0.767183\n",
      "[50]\tvalidation_0-auc:0.802202\tvalidation_1-auc:0.767535\n",
      "[51]\tvalidation_0-auc:0.803128\tvalidation_1-auc:0.768051\n",
      "[52]\tvalidation_0-auc:0.80395\tvalidation_1-auc:0.768248\n",
      "[53]\tvalidation_0-auc:0.804657\tvalidation_1-auc:0.768592\n",
      "[54]\tvalidation_0-auc:0.805301\tvalidation_1-auc:0.768738\n",
      "[55]\tvalidation_0-auc:0.805826\tvalidation_1-auc:0.769073\n",
      "[56]\tvalidation_0-auc:0.806446\tvalidation_1-auc:0.769409\n",
      "[57]\tvalidation_0-auc:0.807163\tvalidation_1-auc:0.769637\n",
      "[58]\tvalidation_0-auc:0.807849\tvalidation_1-auc:0.769944\n",
      "[59]\tvalidation_0-auc:0.808736\tvalidation_1-auc:0.770288\n",
      "[60]\tvalidation_0-auc:0.809605\tvalidation_1-auc:0.770647\n",
      "[61]\tvalidation_0-auc:0.810293\tvalidation_1-auc:0.770572\n",
      "[62]\tvalidation_0-auc:0.810743\tvalidation_1-auc:0.770952\n",
      "[63]\tvalidation_0-auc:0.811167\tvalidation_1-auc:0.771068\n",
      "[64]\tvalidation_0-auc:0.811612\tvalidation_1-auc:0.771074\n",
      "[65]\tvalidation_0-auc:0.812058\tvalidation_1-auc:0.771211\n",
      "[66]\tvalidation_0-auc:0.81272\tvalidation_1-auc:0.771253\n",
      "[67]\tvalidation_0-auc:0.813193\tvalidation_1-auc:0.771473\n",
      "[68]\tvalidation_0-auc:0.813868\tvalidation_1-auc:0.771641\n",
      "[69]\tvalidation_0-auc:0.814528\tvalidation_1-auc:0.771803\n",
      "[70]\tvalidation_0-auc:0.815304\tvalidation_1-auc:0.771993\n",
      "[71]\tvalidation_0-auc:0.815825\tvalidation_1-auc:0.772033\n",
      "[72]\tvalidation_0-auc:0.816156\tvalidation_1-auc:0.772166\n",
      "[73]\tvalidation_0-auc:0.816476\tvalidation_1-auc:0.772308\n",
      "[74]\tvalidation_0-auc:0.816818\tvalidation_1-auc:0.772488\n",
      "[75]\tvalidation_0-auc:0.817381\tvalidation_1-auc:0.772556\n",
      "[76]\tvalidation_0-auc:0.817896\tvalidation_1-auc:0.772583\n",
      "[77]\tvalidation_0-auc:0.818564\tvalidation_1-auc:0.772673\n",
      "[78]\tvalidation_0-auc:0.818949\tvalidation_1-auc:0.77288\n",
      "[79]\tvalidation_0-auc:0.819564\tvalidation_1-auc:0.7729\n",
      "[80]\tvalidation_0-auc:0.820255\tvalidation_1-auc:0.772898\n",
      "[81]\tvalidation_0-auc:0.820669\tvalidation_1-auc:0.773021\n",
      "[82]\tvalidation_0-auc:0.821183\tvalidation_1-auc:0.773046\n",
      "[83]\tvalidation_0-auc:0.821554\tvalidation_1-auc:0.773211\n",
      "[84]\tvalidation_0-auc:0.821829\tvalidation_1-auc:0.77333\n",
      "[85]\tvalidation_0-auc:0.822344\tvalidation_1-auc:0.773518\n",
      "[86]\tvalidation_0-auc:0.823018\tvalidation_1-auc:0.77364\n",
      "[87]\tvalidation_0-auc:0.823332\tvalidation_1-auc:0.773607\n",
      "[88]\tvalidation_0-auc:0.823688\tvalidation_1-auc:0.773811\n",
      "[89]\tvalidation_0-auc:0.824089\tvalidation_1-auc:0.773816\n",
      "[90]\tvalidation_0-auc:0.824472\tvalidation_1-auc:0.773844\n",
      "[91]\tvalidation_0-auc:0.824897\tvalidation_1-auc:0.774047\n",
      "[92]\tvalidation_0-auc:0.825299\tvalidation_1-auc:0.774088\n",
      "[93]\tvalidation_0-auc:0.825824\tvalidation_1-auc:0.77416\n",
      "[94]\tvalidation_0-auc:0.826304\tvalidation_1-auc:0.774171\n",
      "[95]\tvalidation_0-auc:0.82681\tvalidation_1-auc:0.774085\n",
      "[96]\tvalidation_0-auc:0.827175\tvalidation_1-auc:0.774128\n",
      "[97]\tvalidation_0-auc:0.827363\tvalidation_1-auc:0.774175\n",
      "[98]\tvalidation_0-auc:0.827719\tvalidation_1-auc:0.774255\n",
      "[99]\tvalidation_0-auc:0.827957\tvalidation_1-auc:0.774299\n",
      "[100]\tvalidation_0-auc:0.828439\tvalidation_1-auc:0.77446\n",
      "[101]\tvalidation_0-auc:0.828639\tvalidation_1-auc:0.774601\n",
      "[102]\tvalidation_0-auc:0.828934\tvalidation_1-auc:0.774662\n",
      "[103]\tvalidation_0-auc:0.829461\tvalidation_1-auc:0.774564\n",
      "[104]\tvalidation_0-auc:0.829744\tvalidation_1-auc:0.774662\n",
      "[105]\tvalidation_0-auc:0.830063\tvalidation_1-auc:0.77467\n",
      "[106]\tvalidation_0-auc:0.830454\tvalidation_1-auc:0.774644\n",
      "[107]\tvalidation_0-auc:0.830884\tvalidation_1-auc:0.774922\n",
      "[108]\tvalidation_0-auc:0.831296\tvalidation_1-auc:0.774906\n",
      "[109]\tvalidation_0-auc:0.831649\tvalidation_1-auc:0.774861\n",
      "[110]\tvalidation_0-auc:0.83214\tvalidation_1-auc:0.774821\n",
      "[111]\tvalidation_0-auc:0.832748\tvalidation_1-auc:0.77485\n",
      "[112]\tvalidation_0-auc:0.833064\tvalidation_1-auc:0.774765\n",
      "[113]\tvalidation_0-auc:0.833452\tvalidation_1-auc:0.774812\n",
      "[114]\tvalidation_0-auc:0.8337\tvalidation_1-auc:0.774888\n",
      "[115]\tvalidation_0-auc:0.834081\tvalidation_1-auc:0.774855\n",
      "[116]\tvalidation_0-auc:0.834272\tvalidation_1-auc:0.77492\n",
      "[117]\tvalidation_0-auc:0.834763\tvalidation_1-auc:0.775044\n",
      "[118]\tvalidation_0-auc:0.835062\tvalidation_1-auc:0.775034\n",
      "[119]\tvalidation_0-auc:0.835474\tvalidation_1-auc:0.77516\n",
      "[120]\tvalidation_0-auc:0.835686\tvalidation_1-auc:0.775202\n",
      "[121]\tvalidation_0-auc:0.836239\tvalidation_1-auc:0.775222\n",
      "[122]\tvalidation_0-auc:0.836664\tvalidation_1-auc:0.775212\n",
      "[123]\tvalidation_0-auc:0.836914\tvalidation_1-auc:0.775288\n",
      "[124]\tvalidation_0-auc:0.837394\tvalidation_1-auc:0.77525\n",
      "[125]\tvalidation_0-auc:0.837678\tvalidation_1-auc:0.775161\n",
      "[126]\tvalidation_0-auc:0.838141\tvalidation_1-auc:0.775199\n",
      "[127]\tvalidation_0-auc:0.838509\tvalidation_1-auc:0.775253\n",
      "[128]\tvalidation_0-auc:0.838889\tvalidation_1-auc:0.775236\n",
      "[129]\tvalidation_0-auc:0.839474\tvalidation_1-auc:0.775159\n",
      "[130]\tvalidation_0-auc:0.839766\tvalidation_1-auc:0.775213\n",
      "[131]\tvalidation_0-auc:0.840084\tvalidation_1-auc:0.775231\n",
      "[132]\tvalidation_0-auc:0.840423\tvalidation_1-auc:0.775136\n",
      "[133]\tvalidation_0-auc:0.84074\tvalidation_1-auc:0.775108\n",
      "[134]\tvalidation_0-auc:0.841031\tvalidation_1-auc:0.775219\n",
      "[135]\tvalidation_0-auc:0.841311\tvalidation_1-auc:0.775254\n",
      "[136]\tvalidation_0-auc:0.841707\tvalidation_1-auc:0.775327\n",
      "[137]\tvalidation_0-auc:0.842008\tvalidation_1-auc:0.77527\n",
      "[138]\tvalidation_0-auc:0.842192\tvalidation_1-auc:0.775303\n",
      "[139]\tvalidation_0-auc:0.84263\tvalidation_1-auc:0.7753\n",
      "[140]\tvalidation_0-auc:0.842997\tvalidation_1-auc:0.775459\n",
      "[141]\tvalidation_0-auc:0.843209\tvalidation_1-auc:0.775444\n",
      "[142]\tvalidation_0-auc:0.843635\tvalidation_1-auc:0.775419\n",
      "[143]\tvalidation_0-auc:0.843978\tvalidation_1-auc:0.775403\n"
     ]
    },
    {
     "name": "stdout",
     "output_type": "stream",
     "text": [
      "[144]\tvalidation_0-auc:0.844267\tvalidation_1-auc:0.775401\n",
      "[145]\tvalidation_0-auc:0.844404\tvalidation_1-auc:0.775422\n",
      "[146]\tvalidation_0-auc:0.844831\tvalidation_1-auc:0.77555\n",
      "[147]\tvalidation_0-auc:0.845466\tvalidation_1-auc:0.775507\n",
      "[148]\tvalidation_0-auc:0.845806\tvalidation_1-auc:0.775582\n",
      "[149]\tvalidation_0-auc:0.845984\tvalidation_1-auc:0.77555\n",
      "[150]\tvalidation_0-auc:0.846335\tvalidation_1-auc:0.775581\n",
      "[151]\tvalidation_0-auc:0.846676\tvalidation_1-auc:0.775494\n",
      "[152]\tvalidation_0-auc:0.846795\tvalidation_1-auc:0.775503\n",
      "[153]\tvalidation_0-auc:0.847019\tvalidation_1-auc:0.775493\n",
      "[154]\tvalidation_0-auc:0.847205\tvalidation_1-auc:0.775464\n",
      "[155]\tvalidation_0-auc:0.847417\tvalidation_1-auc:0.775449\n",
      "[156]\tvalidation_0-auc:0.847668\tvalidation_1-auc:0.775578\n",
      "[157]\tvalidation_0-auc:0.847915\tvalidation_1-auc:0.775722\n",
      "[158]\tvalidation_0-auc:0.848244\tvalidation_1-auc:0.775699\n",
      "[159]\tvalidation_0-auc:0.848665\tvalidation_1-auc:0.775815\n"
     ]
    },
    {
     "data": {
      "text/plain": [
       "XGBClassifier(base_score=0.5, booster='gbtree', colsample_bylevel=0.8,\n",
       "       colsample_bytree=0.8, gamma=0, learning_rate=0.15, max_delta_step=0,\n",
       "       max_depth=5, min_child_weight=3, missing=None, n_estimators=160,\n",
       "       n_jobs=-1, nthread=None, objective='binary:logistic',\n",
       "       random_state=0, reg_alpha=0.1, reg_lambda=0.12, scale_pos_weight=1,\n",
       "       seed=None, silent=False, subsample=0.89)"
      ]
     },
     "execution_count": 38,
     "metadata": {},
     "output_type": "execute_result"
    }
   ],
   "source": [
    "clf.fit(X = X_train, y = y_train,\n",
    "    eval_set=[(X_train, y_train), (X_test, y_test)],\n",
    "        eval_metric='auc',\n",
    "        verbose=True)"
   ]
  },
  {
   "cell_type": "code",
   "execution_count": 39,
   "metadata": {},
   "outputs": [],
   "source": [
    "#Save trained model\n",
    "pickle.dump(clf, open('../data/results/clf_opt_2.dat', 'wb'))"
   ]
  },
  {
   "cell_type": "markdown",
   "metadata": {},
   "source": [
    "#### Evaluation"
   ]
  },
  {
   "cell_type": "code",
   "execution_count": 40,
   "metadata": {},
   "outputs": [],
   "source": [
    "from sklearn.metrics import roc_auc_score"
   ]
  },
  {
   "cell_type": "code",
   "execution_count": 41,
   "metadata": {},
   "outputs": [],
   "source": [
    "results = clf.evals_result()"
   ]
  },
  {
   "cell_type": "code",
   "execution_count": 42,
   "metadata": {},
   "outputs": [
    {
     "data": {
      "image/png": "[encoded data removed]",
      "text/plain": [
       "<Figure size 720x576 with 1 Axes>"
      ]
     },
     "metadata": {},
     "output_type": "display_data"
    }
   ],
   "source": [
    "# retrieve performance metrics\n",
    "epochs = len(results['validation_0']['auc'])\n",
    "x_axis = range(0, epochs)\n",
    "# plot log loss\n",
    "fig, ax = plt.subplots(figsize=(10,8))\n",
    "ax.plot(x_axis, results['validation_0']['auc'], label='Train')\n",
    "ax.plot(x_axis, results['validation_1']['auc'], label='Test')\n",
    "ax.legend()\n",
    "\n",
    "\n",
    "ax.spines['top'].set_visible(False)\n",
    "ax.spines['right'].set_visible(False)\n",
    "\n",
    "plt.ylabel('AUC')\n",
    "plt.title('XGBoost AUC vs Iterations')\n",
    "plt.show()\n"
   ]
  },
  {
   "cell_type": "code",
   "execution_count": 43,
   "metadata": {},
   "outputs": [],
   "source": [
    "#Train evaluation\n",
    "train_pred = clf.predict_proba(dtrain[predictors])"
   ]
  },
  {
   "cell_type": "code",
   "execution_count": 44,
   "metadata": {},
   "outputs": [
    {
     "data": {
      "text/plain": [
       "array([1., 0., 0., ..., 0., 0., 0.])"
      ]
     },
     "execution_count": 44,
     "metadata": {},
     "output_type": "execute_result"
    }
   ],
   "source": [
    "dtrain[target_col].values"
   ]
  },
  {
   "cell_type": "code",
   "execution_count": 45,
   "metadata": {},
   "outputs": [
    {
     "data": {
      "text/plain": [
       "array([0.60220194, 0.98691994, 0.96150273, ..., 0.9903535 , 0.9450472 ,\n",
       "       0.79215044], dtype=float32)"
      ]
     },
     "execution_count": 45,
     "metadata": {},
     "output_type": "execute_result"
    }
   ],
   "source": [
    "train_pred[:, 0]"
   ]
  },
  {
   "cell_type": "code",
   "execution_count": 46,
   "metadata": {},
   "outputs": [
    {
     "data": {
      "text/plain": [
       "0.8339751649688727"
      ]
     },
     "execution_count": 46,
     "metadata": {},
     "output_type": "execute_result"
    }
   ],
   "source": [
    "roc_auc_score(dtrain[target_col], train_pred[:, 1])"
   ]
  },
  {
   "cell_type": "code",
   "execution_count": 47,
   "metadata": {},
   "outputs": [],
   "source": [
    "predictions = clf.predict_proba(dtest[predictors])"
   ]
  },
  {
   "cell_type": "code",
   "execution_count": 48,
   "metadata": {},
   "outputs": [
    {
     "data": {
      "text/plain": [
       "array([[0.9635415 , 0.03645847],\n",
       "       [0.8552246 , 0.14477539],\n",
       "       [0.965874  , 0.03412597],\n",
       "       ...,\n",
       "       [0.9451598 , 0.05484019],\n",
       "       [0.9522056 , 0.04779438],\n",
       "       [0.44665676, 0.55334324]], dtype=float32)"
      ]
     },
     "execution_count": 48,
     "metadata": {},
     "output_type": "execute_result"
    }
   ],
   "source": [
    "predictions"
   ]
  },
  {
   "cell_type": "code",
   "execution_count": 49,
   "metadata": {},
   "outputs": [],
   "source": [
    "pickle.dump(predictions, open('../data/results/predictions.pkl', 'wb'))"
   ]
  },
  {
   "cell_type": "code",
   "execution_count": null,
   "metadata": {},
   "outputs": [],
   "source": []
  }
 ],
 "metadata": {
  "kernelspec": {
   "display_name": "Python [default]",
   "language": "python",
   "name": "python3"
  },
  "language_info": {
   "codemirror_mode": {
    "name": "ipython",
    "version": 3
   },
   "file_extension": ".py",
   "mimetype": "text/x-python",
   "name": "python",
   "nbconvert_exporter": "python",
   "pygments_lexer": "ipython3",
   "version": "3.6.4"
  }
 },
 "nbformat": 4,
 "nbformat_minor": 2
}
