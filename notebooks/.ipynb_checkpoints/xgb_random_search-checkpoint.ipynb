{
 "cells": [
  {
   "cell_type": "markdown",
   "metadata": {},
   "source": [
    "### In this notebook:\n",
    "I perform random search with xgboost model to find hyperparameters and summarize results. I use feature matrix with 10% sampled data from original dataset. Feature matrix has selected variables after feature selection. See notebook `feature_selection`."
   ]
  },
  {
   "cell_type": "markdown",
   "metadata": {},
   "source": [
    "### About project:\n",
    "Data is from Kaggle competiotion [Home Credit Default Risk](https://www.kaggle.com/c/home-credit-default-risk). \n",
    "\n",
    "I implement an automated feature engineering approach with an open-source library [Featuretools](https://www.featuretools.com/). \n"
   ]
  },
  {
   "cell_type": "code",
   "execution_count": 1,
   "metadata": {},
   "outputs": [],
   "source": [
    "import xgboost as xgb "
   ]
  },
  {
   "cell_type": "code",
   "execution_count": 2,
   "metadata": {},
   "outputs": [],
   "source": [
    "import numpy as np\n",
    "import pandas as pd\n",
    "import time\n",
    "import pickle"
   ]
  },
  {
   "cell_type": "code",
   "execution_count": 15,
   "metadata": {},
   "outputs": [],
   "source": [
    "import matplotlib.pyplot as plt\n",
    "%matplotlib inline"
   ]
  },
  {
   "cell_type": "code",
   "execution_count": 16,
   "metadata": {},
   "outputs": [],
   "source": [
    "import warnings\n",
    "warnings.filterwarnings('ignore')"
   ]
  },
  {
   "cell_type": "code",
   "execution_count": 4,
   "metadata": {},
   "outputs": [],
   "source": [
    "from sklearn.model_selection import train_test_split, RandomizedSearchCV"
   ]
  },
  {
   "cell_type": "code",
   "execution_count": 5,
   "metadata": {},
   "outputs": [],
   "source": [
    "fm_sample = pd.read_csv('../data/fm_train_sample_trans.csv')"
   ]
  },
  {
   "cell_type": "code",
   "execution_count": 6,
   "metadata": {},
   "outputs": [],
   "source": [
    "id_col = 'SK_ID_CURR'\n",
    "target_col = 'TARGET'\n",
    "\n",
    "predictors = [x for x in fm_sample.columns if x not in [id_col, target_col]]"
   ]
  },
  {
   "cell_type": "code",
   "execution_count": 7,
   "metadata": {},
   "outputs": [],
   "source": [
    "#X_train, X_test, y_train, y_test = train_test_split(fm_sample[predictors], fm_sample[target_col], test_size=0.2, random_state=42)"
   ]
  },
  {
   "cell_type": "code",
   "execution_count": 8,
   "metadata": {},
   "outputs": [],
   "source": [
    "id_col = 'SK_ID_CURR'\n",
    "target_col = 'TARGET'"
   ]
  },
  {
   "cell_type": "code",
   "execution_count": 9,
   "metadata": {},
   "outputs": [],
   "source": [
    "predictors = [x for x in fm_sample.columns if x not in [id_col, target_col]]"
   ]
  },
  {
   "cell_type": "code",
   "execution_count": 10,
   "metadata": {},
   "outputs": [],
   "source": [
    "X_train = fm_sample[predictors]\n",
    "y_train = fm_sample[target_col]"
   ]
  },
  {
   "cell_type": "code",
   "execution_count": 11,
   "metadata": {},
   "outputs": [],
   "source": [
    "#dtrain = xgb.DMatrix(data=X_train.values, label=y_train.values, feature_names=predictors)\n",
    "#dtest = xgb.DMatrix(data=X_test.values, label=y_test.values, feature_names=predictors)"
   ]
  },
  {
   "cell_type": "code",
   "execution_count": 13,
   "metadata": {},
   "outputs": [],
   "source": [
    "clf = xgb.XGBClassifier(objective='binary:logistic', n_jobs=-1, silent=0)"
   ]
  },
  {
   "cell_type": "code",
   "execution_count": 14,
   "metadata": {},
   "outputs": [],
   "source": [
    "param_dist = {\n",
    "    'max_depth': range(3,10),\n",
    "    'learning_rate': np.logspace(np.log10(0.005), np.log10(0.5), base = 10, num = 1000),\n",
    "    'n_estimators': range(100, 1100, 100),\n",
    "    'gamma': np.linspace(0, 0.4, 6),\n",
    "    'min_child_weight': range(1,6,2),\n",
    "    'subsample': np.linspace(0.5, 1, 101),\n",
    "    'colsample_bytree': np.linspace(0.6, 1, 11),\n",
    "    'colsample_bylevel': np.linspace(0.6, 1, 11),\n",
    "    'reg_alpha': np.linspace(0, 1),\n",
    "    'reg_lambda': np.linspace(0, 1)\n",
    "\n",
    "}"
   ]
  },
  {
   "cell_type": "markdown",
   "metadata": {},
   "source": [
    "#### Note: Random search computation I run on AWS EC2 due to my local machine constrains.\n"
   ]
  },
  {
   "cell_type": "code",
   "execution_count": 18,
   "metadata": {},
   "outputs": [],
   "source": [
    "## Code below to run on AWS EC2\n",
    "\n",
    "# n_iter_search = 40\n",
    "\n",
    "# random_search = RandomizedSearchCV(estimator=clf, param_distributions=param_dist, n_iter=n_iter_search, cv=5, scoring='roc_auc' )\n",
    "\n",
    "# start = time.time()\n",
    "\n",
    "# random_search.fit(X=X_train.values, y=y_train.values)\n",
    "\n",
    "# end = time.time()\n",
    "# print('Computation took {} sec.'.format(round(end - start), 1))\n"
   ]
  },
  {
   "cell_type": "markdown",
   "metadata": {},
   "source": [
    "### Results Summary"
   ]
  },
  {
   "cell_type": "code",
   "execution_count": 5,
   "metadata": {},
   "outputs": [],
   "source": [
    "with open('../data/random_search_results.pkl', mode='rb') as f:\n",
    "    res_rand_search1 = pickle.load(f)"
   ]
  },
  {
   "cell_type": "code",
   "execution_count": 6,
   "metadata": {},
   "outputs": [],
   "source": [
    "with open('../data/random_search_results2.pkl', mode='rb') as f:\n",
    "    res_rand_search2 = pickle.load(f)"
   ]
  },
  {
   "cell_type": "code",
   "execution_count": 7,
   "metadata": {},
   "outputs": [],
   "source": [
    "df_res_rand_search1 = pd.DataFrame(res_rand_search1)"
   ]
  },
  {
   "cell_type": "code",
   "execution_count": 8,
   "metadata": {},
   "outputs": [],
   "source": [
    "df_res_rand_search2 = pd.DataFrame(res_rand_search2)"
   ]
  },
  {
   "cell_type": "code",
   "execution_count": 9,
   "metadata": {},
   "outputs": [],
   "source": [
    "df_res_rand_search = pd.concat([df_res_rand_search1, df_res_rand_search2], axis=0)"
   ]
  },
  {
   "cell_type": "code",
   "execution_count": 10,
   "metadata": {},
   "outputs": [
    {
     "data": {
      "text/plain": [
       "(20, 30)"
      ]
     },
     "execution_count": 10,
     "metadata": {},
     "output_type": "execute_result"
    }
   ],
   "source": [
    "df_res_rand_search.shape"
   ]
  },
  {
   "cell_type": "code",
   "execution_count": 11,
   "metadata": {},
   "outputs": [],
   "source": [
    "time_score = df_res_rand_search.loc[:, ['mean_fit_time', 'mean_test_score', 'rank_test_score']]"
   ]
  },
  {
   "cell_type": "code",
   "execution_count": 12,
   "metadata": {},
   "outputs": [
    {
     "data": {
      "text/html": [
       "<div>\n",
       "<style scoped>\n",
       "    .dataframe tbody tr th:only-of-type {\n",
       "        vertical-align: middle;\n",
       "    }\n",
       "\n",
       "    .dataframe tbody tr th {\n",
       "        vertical-align: top;\n",
       "    }\n",
       "\n",
       "    .dataframe thead th {\n",
       "        text-align: right;\n",
       "    }\n",
       "</style>\n",
       "<table border=\"1\" class=\"dataframe\">\n",
       "  <thead>\n",
       "    <tr style=\"text-align: right;\">\n",
       "      <th></th>\n",
       "      <th>mean_fit_time</th>\n",
       "      <th>mean_test_score</th>\n",
       "      <th>rank_test_score</th>\n",
       "    </tr>\n",
       "  </thead>\n",
       "  <tbody>\n",
       "    <tr>\n",
       "      <th>0</th>\n",
       "      <td>1746.051089</td>\n",
       "      <td>0.727369</td>\n",
       "      <td>5</td>\n",
       "    </tr>\n",
       "    <tr>\n",
       "      <th>1</th>\n",
       "      <td>583.780619</td>\n",
       "      <td>0.754911</td>\n",
       "      <td>1</td>\n",
       "    </tr>\n",
       "    <tr>\n",
       "      <th>2</th>\n",
       "      <td>602.575312</td>\n",
       "      <td>0.711377</td>\n",
       "      <td>9</td>\n",
       "    </tr>\n",
       "    <tr>\n",
       "      <th>3</th>\n",
       "      <td>76.135446</td>\n",
       "      <td>0.738691</td>\n",
       "      <td>4</td>\n",
       "    </tr>\n",
       "    <tr>\n",
       "      <th>4</th>\n",
       "      <td>618.417438</td>\n",
       "      <td>0.714018</td>\n",
       "      <td>8</td>\n",
       "    </tr>\n",
       "  </tbody>\n",
       "</table>\n",
       "</div>"
      ],
      "text/plain": [
       "   mean_fit_time  mean_test_score  rank_test_score\n",
       "0    1746.051089         0.727369                5\n",
       "1     583.780619         0.754911                1\n",
       "2     602.575312         0.711377                9\n",
       "3      76.135446         0.738691                4\n",
       "4     618.417438         0.714018                8"
      ]
     },
     "execution_count": 12,
     "metadata": {},
     "output_type": "execute_result"
    }
   ],
   "source": [
    "time_score.head()"
   ]
  },
  {
   "cell_type": "code",
   "execution_count": 17,
   "metadata": {},
   "outputs": [
    {
     "data": {
      "image/png": "[encoded data removed]",
      "text/plain": [
       "<Figure size 864x576 with 1 Axes>"
      ]
     },
     "metadata": {},
     "output_type": "display_data"
    }
   ],
   "source": [
    "fig, ax = plt.subplots(figsize=(12,8))\n",
    "\n",
    "x = time_score['mean_fit_time'].tolist()\n",
    "y = time_score['mean_test_score'].tolist()\n",
    "ann = time_score['rank_test_score'].tolist()\n",
    "\n",
    "\n",
    "ax.scatter(x='mean_fit_time', y='mean_test_score', s=300, alpha=0.5 , c= 'mean_test_score',  data=time_score)\n",
    "\n",
    "ax.set_xlabel('mean_fit_time')\n",
    "ax.set_ylabel('mean_test_score')\n",
    "plt.title('fit time vs test score')\n",
    "\n",
    "for i, txt in enumerate(ann):\n",
    "    ax.annotate(txt, (x[i], y[i]))\n",
    "\n",
    "ax.spines['right'].set_visible(False)\n",
    "ax.spines['top'].set_visible(False)\n"
   ]
  },
  {
   "cell_type": "code",
   "execution_count": 14,
   "metadata": {},
   "outputs": [
    {
     "data": {
      "text/html": [
       "<div>\n",
       "<style scoped>\n",
       "    .dataframe tbody tr th:only-of-type {\n",
       "        vertical-align: middle;\n",
       "    }\n",
       "\n",
       "    .dataframe tbody tr th {\n",
       "        vertical-align: top;\n",
       "    }\n",
       "\n",
       "    .dataframe thead th {\n",
       "        text-align: right;\n",
       "    }\n",
       "</style>\n",
       "<table border=\"1\" class=\"dataframe\">\n",
       "  <thead>\n",
       "    <tr style=\"text-align: right;\">\n",
       "      <th></th>\n",
       "      <th>1</th>\n",
       "      <th>3</th>\n",
       "    </tr>\n",
       "  </thead>\n",
       "  <tbody>\n",
       "    <tr>\n",
       "      <th>mean_fit_time</th>\n",
       "      <td>583.781</td>\n",
       "      <td>1699.64</td>\n",
       "    </tr>\n",
       "    <tr>\n",
       "      <th>mean_score_time</th>\n",
       "      <td>0.394879</td>\n",
       "      <td>1.37658</td>\n",
       "    </tr>\n",
       "    <tr>\n",
       "      <th>mean_test_score</th>\n",
       "      <td>0.754911</td>\n",
       "      <td>0.745693</td>\n",
       "    </tr>\n",
       "    <tr>\n",
       "      <th>mean_train_score</th>\n",
       "      <td>0.979453</td>\n",
       "      <td>0.999215</td>\n",
       "    </tr>\n",
       "    <tr>\n",
       "      <th>param_colsample_bylevel</th>\n",
       "      <td>0.68</td>\n",
       "      <td>0.92</td>\n",
       "    </tr>\n",
       "    <tr>\n",
       "      <th>param_colsample_bytree</th>\n",
       "      <td>0.72</td>\n",
       "      <td>0.72</td>\n",
       "    </tr>\n",
       "    <tr>\n",
       "      <th>param_gamma</th>\n",
       "      <td>0.32</td>\n",
       "      <td>0.32</td>\n",
       "    </tr>\n",
       "    <tr>\n",
       "      <th>param_learning_rate</th>\n",
       "      <td>0.0272714</td>\n",
       "      <td>0.0494271</td>\n",
       "    </tr>\n",
       "    <tr>\n",
       "      <th>param_max_depth</th>\n",
       "      <td>5</td>\n",
       "      <td>9</td>\n",
       "    </tr>\n",
       "    <tr>\n",
       "      <th>param_min_child_weight</th>\n",
       "      <td>3</td>\n",
       "      <td>5</td>\n",
       "    </tr>\n",
       "    <tr>\n",
       "      <th>param_n_estimators</th>\n",
       "      <td>700</td>\n",
       "      <td>200</td>\n",
       "    </tr>\n",
       "    <tr>\n",
       "      <th>param_reg_alpha</th>\n",
       "      <td>0.102041</td>\n",
       "      <td>0.244898</td>\n",
       "    </tr>\n",
       "    <tr>\n",
       "      <th>param_reg_lambda</th>\n",
       "      <td>0.122449</td>\n",
       "      <td>0.877551</td>\n",
       "    </tr>\n",
       "    <tr>\n",
       "      <th>param_subsample</th>\n",
       "      <td>0.89</td>\n",
       "      <td>0.79</td>\n",
       "    </tr>\n",
       "    <tr>\n",
       "      <th>params</th>\n",
       "      <td>{'subsample': 0.89, 'reg_lambda': 0.1224489795...</td>\n",
       "      <td>{'subsample': 0.79, 'reg_lambda': 0.8775510204...</td>\n",
       "    </tr>\n",
       "  </tbody>\n",
       "</table>\n",
       "</div>"
      ],
      "text/plain": [
       "                                                                         1  \\\n",
       "mean_fit_time                                                      583.781   \n",
       "mean_score_time                                                   0.394879   \n",
       "mean_test_score                                                   0.754911   \n",
       "mean_train_score                                                  0.979453   \n",
       "param_colsample_bylevel                                               0.68   \n",
       "param_colsample_bytree                                                0.72   \n",
       "param_gamma                                                           0.32   \n",
       "param_learning_rate                                              0.0272714   \n",
       "param_max_depth                                                          5   \n",
       "param_min_child_weight                                                   3   \n",
       "param_n_estimators                                                     700   \n",
       "param_reg_alpha                                                   0.102041   \n",
       "param_reg_lambda                                                  0.122449   \n",
       "param_subsample                                                       0.89   \n",
       "params                   {'subsample': 0.89, 'reg_lambda': 0.1224489795...   \n",
       "\n",
       "                                                                         3  \n",
       "mean_fit_time                                                      1699.64  \n",
       "mean_score_time                                                    1.37658  \n",
       "mean_test_score                                                   0.745693  \n",
       "mean_train_score                                                  0.999215  \n",
       "param_colsample_bylevel                                               0.92  \n",
       "param_colsample_bytree                                                0.72  \n",
       "param_gamma                                                           0.32  \n",
       "param_learning_rate                                              0.0494271  \n",
       "param_max_depth                                                          9  \n",
       "param_min_child_weight                                                   5  \n",
       "param_n_estimators                                                     200  \n",
       "param_reg_alpha                                                   0.244898  \n",
       "param_reg_lambda                                                  0.877551  \n",
       "param_subsample                                                       0.79  \n",
       "params                   {'subsample': 0.79, 'reg_lambda': 0.8775510204...  "
      ]
     },
     "execution_count": 14,
     "metadata": {},
     "output_type": "execute_result"
    }
   ],
   "source": [
    "df_res_rand_search.loc[df_res_rand_search['rank_test_score'] == 1, : 'params' ].T"
   ]
  },
  {
   "cell_type": "code",
   "execution_count": null,
   "metadata": {},
   "outputs": [],
   "source": []
  },
  {
   "cell_type": "code",
   "execution_count": null,
   "metadata": {},
   "outputs": [],
   "source": []
  },
  {
   "cell_type": "code",
   "execution_count": null,
   "metadata": {},
   "outputs": [],
   "source": []
  },
  {
   "cell_type": "code",
   "execution_count": null,
   "metadata": {},
   "outputs": [],
   "source": []
  },
  {
   "cell_type": "code",
   "execution_count": null,
   "metadata": {},
   "outputs": [],
   "source": []
  },
  {
   "cell_type": "code",
   "execution_count": null,
   "metadata": {},
   "outputs": [],
   "source": []
  }
 ],
 "metadata": {
  "kernelspec": {
   "display_name": "Python 3",
   "language": "python",
   "name": "python3"
  },
  "language_info": {
   "codemirror_mode": {
    "name": "ipython",
    "version": 3
   },
   "file_extension": ".py",
   "mimetype": "text/x-python",
   "name": "python",
   "nbconvert_exporter": "python",
   "pygments_lexer": "ipython3",
   "version": "3.6.5"
  }
 },
 "nbformat": 4,
 "nbformat_minor": 2
}
